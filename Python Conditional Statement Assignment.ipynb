{
 "cells": [
  {
   "cell_type": "markdown",
   "metadata": {},
   "source": [
    "- Q.1 Take two integer values from the user and print greatest among them.  "
   ]
  },
  {
   "cell_type": "code",
   "execution_count": 1,
   "metadata": {},
   "outputs": [
    {
     "name": "stdout",
     "output_type": "stream",
     "text": [
      "Enter the first number: 34\n",
      "Enter the second number: 89\n",
      "89 is greater\n"
     ]
    }
   ],
   "source": [
    "a = int(input(\"Enter the first number: \"))\n",
    "b = int(input(\"Enter the second number: \"))\n",
    "if(a >= b):\n",
    "    print(a, \"is greater\")\n",
    "else:\n",
    "    print(b, \"is greater\")\n"
   ]
  },
  {
   "cell_type": "markdown",
   "metadata": {},
   "source": [
    "- Q.2 Write a program that reads an integer from the user. Then your program should display a message indicating whether the integer is even or odd. "
   ]
  },
  {
   "cell_type": "code",
   "execution_count": 2,
   "metadata": {},
   "outputs": [
    {
     "name": "stdout",
     "output_type": "stream",
     "text": [
      "Enter any number: 5\n",
      "5 is ODD\n"
     ]
    }
   ],
   "source": [
    "# Case - 1\n",
    "input_num = int(input('Enter any number: '))\n",
    "if input_num % 2 == 0:\n",
    "    print(input_num, \"is EVEN\")\n",
    "else:\n",
    "    print(input_num, \"is ODD\")"
   ]
  },
  {
   "cell_type": "code",
   "execution_count": 7,
   "metadata": {},
   "outputs": [
    {
     "name": "stdout",
     "output_type": "stream",
     "text": [
      "Enter any number: 8\n",
      "8 is EVEN\n"
     ]
    }
   ],
   "source": [
    "# Case - 2\n",
    "input_num = int(input('Enter any number: '))\n",
    "if input_num % 2 == 0:\n",
    "    print(input_num, \"is EVEN\")\n",
    "else:\n",
    "    print(input_num, \"is ODD\")"
   ]
  },
  {
   "cell_type": "markdown",
   "metadata": {},
   "source": [
    "- Q.3. Create a program that reads a letter of the alphabet from the user. If the user enters a, e, i, o or u then your program        should display a message indicating that the entered letter is a vowel. If the user enters y then your program should          display a message indicating that sometimes y is a vowel, and sometimes y is a consonant. Otherwise your program should        display a message indicating that the letter is a consonant. "
   ]
  },
  {
   "cell_type": "code",
   "execution_count": 6,
   "metadata": {},
   "outputs": [
    {
     "name": "stdout",
     "output_type": "stream",
     "text": [
      "Input a letter of the alphabet: y\n",
      "Sometimes letter y stand for vowel, sometimes stand for y consonant.\n"
     ]
    }
   ],
   "source": [
    "# Case - 1\n",
    "ch = input(\"Input a letter of the alphabet: \")\n",
    "\n",
    "if ch in ('a', 'e', 'i', 'o', 'u'):\n",
    "    print(\"ch is a vowel.\")\n",
    "elif ch == 'y':\n",
    "    print(\"Sometimes letter y stand for vowel, sometimes stand for y consonant.\")\n",
    "else:\n",
    "    print(\"ch is a consonant.\") \n"
   ]
  },
  {
   "cell_type": "code",
   "execution_count": 8,
   "metadata": {},
   "outputs": [
    {
     "name": "stdout",
     "output_type": "stream",
     "text": [
      "Input a letter of the alphabet: u\n",
      "ch is a vowel.\n"
     ]
    }
   ],
   "source": [
    "# Case -2\n",
    "ch = input(\"Input a letter of the alphabet: \")\n",
    "\n",
    "if ch in ('a', 'e', 'i', 'o', 'u'):\n",
    "    print(\"ch is a vowel.\")\n",
    "elif ch == 'y':\n",
    "    print(\"Sometimes letter y stand for vowel, sometimes stand for y consonant.\")\n",
    "else:\n",
    "    print(\"ch is a consonant.\") "
   ]
  },
  {
   "cell_type": "code",
   "execution_count": 9,
   "metadata": {},
   "outputs": [
    {
     "name": "stdout",
     "output_type": "stream",
     "text": [
      "Input a letter of the alphabet: g\n",
      "ch is a consonant.\n"
     ]
    }
   ],
   "source": [
    "# Case -3\n",
    "ch = input(\"Input a letter of the alphabet: \")\n",
    "\n",
    "if ch in ('a', 'e', 'i', 'o', 'u'):\n",
    "    print(\"ch is a vowel.\")\n",
    "elif ch == 'y':\n",
    "    print(\"Sometimes letter y stand for vowel, sometimes stand for y consonant.\")\n",
    "else:\n",
    "    print(\"ch is a consonant.\") "
   ]
  },
  {
   "cell_type": "markdown",
   "metadata": {},
   "source": [
    "- Q.4 A triangle can be classified based on the lengths of its sides as equilateral, isosceles or scalene. All three sides of an equilateral triangle have the same length. An isosceles triangle has two sides that are the same length, and a third side that is a different length. If all of the sides have different lengths then the triangle is scalene. Write a program that reads the lengths of the three sides of a triangle from the user. Then display a message that states the triangle’s type."
   ]
  },
  {
   "cell_type": "code",
   "execution_count": 10,
   "metadata": {},
   "outputs": [
    {
     "name": "stdout",
     "output_type": "stream",
     "text": [
      "Input lengths of the triangle sides: \n",
      "x: 23\n",
      "y: 23\n",
      "z: 23\n",
      "Equilateral triangle\n"
     ]
    }
   ],
   "source": [
    "# Case - 1\n",
    "print(\"Input lengths of the triangle sides: \")\n",
    "x = int(input(\"x: \"))\n",
    "y = int(input(\"y: \"))\n",
    "z = int(input(\"z: \"))\n",
    "\n",
    "if x == y == z:\n",
    "    print(\"Equilateral triangle\")\n",
    "elif x==y or y==z or z==x:\n",
    "    print(\"isosceles triangle\")\n",
    "else:\n",
    "    print(\"Scalene triangle\")"
   ]
  },
  {
   "cell_type": "code",
   "execution_count": 11,
   "metadata": {},
   "outputs": [
    {
     "name": "stdout",
     "output_type": "stream",
     "text": [
      "Input lengths of the triangle sides: \n",
      "x: 18\n",
      "y: 18\n",
      "z: 45\n",
      "isosceles triangle\n"
     ]
    }
   ],
   "source": [
    "# Case - 2\n",
    "print(\"Input lengths of the triangle sides: \")\n",
    "x = int(input(\"x: \"))\n",
    "y = int(input(\"y: \"))\n",
    "z = int(input(\"z: \"))\n",
    "\n",
    "if x == y == z:\n",
    "    print(\"Equilateral triangle\")\n",
    "elif x==y or y==z or z==x:\n",
    "    print(\"isosceles triangle\")\n",
    "else:\n",
    "    print(\"Scalene triangle\")"
   ]
  },
  {
   "cell_type": "code",
   "execution_count": 12,
   "metadata": {},
   "outputs": [
    {
     "name": "stdout",
     "output_type": "stream",
     "text": [
      "Input lengths of the triangle sides: \n",
      "x: 56\n",
      "y: 92\n",
      "z: 27\n",
      "Scalene triangle\n"
     ]
    }
   ],
   "source": [
    "# Case - 3\n",
    "print(\"Input lengths of the triangle sides: \")\n",
    "x = int(input(\"x: \"))\n",
    "y = int(input(\"y: \"))\n",
    "z = int(input(\"z: \"))\n",
    "\n",
    "if x == y == z:\n",
    "    print(\"Equilateral triangle\")\n",
    "elif x==y or y==z or z==x:\n",
    "    print(\"isosceles triangle\")\n",
    "else:\n",
    "    print(\"Scalene triangle\")"
   ]
  },
  {
   "cell_type": "markdown",
   "metadata": {},
   "source": [
    "- Q.5 Write a program that determines the name of a shape from its number of sides. Read the number of sides from the user and       then report the appropriate name as part of a meaningful message. Your program should support shapes with anywhere from 3       up to (and including) 10 sides. If a number of sides outside of this range is entered then your program should display an       appropriate error message. "
   ]
  },
  {
   "cell_type": "code",
   "execution_count": 15,
   "metadata": {},
   "outputs": [
    {
     "name": "stdout",
     "output_type": "stream",
     "text": [
      "11\n",
      "Error, sides must be in between 3 and 10. Please try again.\n"
     ]
    }
   ],
   "source": [
    "# Case - 1\n",
    "a=int(input())\n",
    "if (a == 3):\n",
    "    print(\"Triangle\")\n",
    "elif (a == 4):\n",
    "    print(\"Quadrilateral\")\n",
    "elif (a == 5):\n",
    "    print(\"Pentagon\")\n",
    "elif( a == 6):\n",
    "    print(\"Hexagon\")\n",
    "elif( a == 7):\n",
    "    print(\"Heptagon\")\n",
    "elif( a == 8):\n",
    "    print(\"Octagon\")\n",
    "elif( a == 9):\n",
    "    print(\"Nonagon\")\n",
    "elif( a == 10):\n",
    "    print(\"Decagon\")\n",
    "    \n",
    "else:\n",
    "          print (\"Error, sides must be in between 3 and 10. Please try again.\")"
   ]
  },
  {
   "cell_type": "code",
   "execution_count": 16,
   "metadata": {},
   "outputs": [
    {
     "name": "stdout",
     "output_type": "stream",
     "text": [
      "5\n",
      "Pentagon\n"
     ]
    }
   ],
   "source": [
    "# Case - 2\n",
    "a=int(input())\n",
    "if (a == 3):\n",
    "    print(\"Triangle\")\n",
    "elif (a == 4):\n",
    "    print(\"Quadrilateral\")\n",
    "elif (a == 5):\n",
    "    print(\"Pentagon\")\n",
    "elif( a == 6):\n",
    "    print(\"Hexagon\")\n",
    "elif( a == 7):\n",
    "    print(\"Heptagon\")\n",
    "elif( a == 8):\n",
    "    print(\"Octagon\")\n",
    "elif( a == 9):\n",
    "    print(\"Nonagon\")\n",
    "elif( a == 10):\n",
    "    print(\"Decagon\")\n",
    "    \n",
    "else:\n",
    "          print (\"Error, sides must be in between 3 and 10. Please try again.\")"
   ]
  },
  {
   "cell_type": "markdown",
   "metadata": {},
   "source": [
    "- Q.6 A shop will give a discount of 10% if the cost of the purchased quantity is more than 1000. Ask the user for quantity,             suppose, one unit will cost 100. Judge and print total cost for user. "
   ]
  },
  {
   "cell_type": "code",
   "execution_count": 7,
   "metadata": {},
   "outputs": [
    {
     "name": "stdout",
     "output_type": "stream",
     "text": [
      "enter price: 89\n",
      "enter quantity: 180\n",
      "10% discount applicable\n",
      "Total payable cost for user is : 14418.0\n"
     ]
    }
   ],
   "source": [
    "price=int(input(\"enter price: \"))\n",
    "qty=int(input(\"enter quantity: \"))\n",
    "cost=price*qty\n",
    "if cost>1000:\n",
    "    print (\"10% discount applicable\")\n",
    "    discount=cost*10/100\n",
    "    cost=cost-discount\n",
    "print (\"Total payable cost for user is :\", cost)"
   ]
  },
  {
   "cell_type": "markdown",
   "metadata": {},
   "source": [
    "- Q.7 Take input of age of 3 people by user and determine oldest and youngest among them. "
   ]
  },
  {
   "cell_type": "code",
   "execution_count": 10,
   "metadata": {},
   "outputs": [
    {
     "name": "stdout",
     "output_type": "stream",
     "text": [
      "Enter age of person 1 : 23\n",
      "Enter age of person 2 : 67\n",
      "Enter age of person 3 : 46\n",
      "Person 2 is oldest\n",
      "Person 1 is youngest\n"
     ]
    }
   ],
   "source": [
    "person1 = eval(input(\"Enter age of person 1 : \"))\n",
    "person2 = eval(input(\"Enter age of person 2 : \"))\n",
    "person3 = eval(input(\"Enter age of person 3 : \"))\n",
    "\n",
    "# check oldest\n",
    "if person1 > person2 and person1 > person3:\n",
    "    print(\"Person 1 is oldest\")\n",
    "elif person2 > person1 and person2 > person3:\n",
    "    print(\"Person 2 is oldest\")\n",
    "elif person3 > person1 and person3 > person2:\n",
    "    print(\"Person 3 is oldest\")\n",
    "\n",
    "# check youngest\n",
    "if person1 < person2 and person1 < person3:\n",
    "    print(\"Person 1 is youngest\")\n",
    "elif person2 < person1 and person2 < person3:\n",
    "    print(\"Person 2 is youngest\")\n",
    "elif person3 < person1 and person3 < person2:\n",
    "    print(\"Person 3 is youngest\")"
   ]
  },
  {
   "cell_type": "markdown",
   "metadata": {},
   "source": [
    "- Q.8 A company decided to give a bonus of 5% to an employee if his/her year of service is more than 5 years. Ask user for           their salary and year of service and print the net bonus amount. "
   ]
  },
  {
   "cell_type": "code",
   "execution_count": 11,
   "metadata": {},
   "outputs": [
    {
     "name": "stdout",
     "output_type": "stream",
     "text": [
      "Enter your salary:35000\n",
      "Enter Years of service:12\n",
      "Yours salary(+Bonus) =  36750.0\n"
     ]
    }
   ],
   "source": [
    "salary = eval(input(\"Enter your salary:\"))\n",
    "service_yrs = eval(input(\"Enter Years of service:\"))\n",
    "if service_yrs > 5:\n",
    "    print(\"Yours salary(+Bonus) = \",salary + (salary)*5/100)\n",
    "else:\n",
    "     print(\"You are not eligible for bonus as you have less service years.\")"
   ]
  },
  {
   "cell_type": "markdown",
   "metadata": {},
   "source": [
    "- Q.9 Write a program to check if a year is leap year or not. If a year is divisible by 4 then it is leap year but if the year           is a century year like 2000, 1900, 2100 then it must be divisible by 400. "
   ]
  },
  {
   "cell_type": "code",
   "execution_count": 16,
   "metadata": {},
   "outputs": [
    {
     "name": "stdout",
     "output_type": "stream",
     "text": [
      "Enter Year: 2021\n",
      "2021 is not a Leap Year\n"
     ]
    }
   ],
   "source": [
    "# User enters the year\n",
    "year = int(input(\"Enter Year: \"))\n",
    "# Leap Year Check\n",
    "if year % 4 == 0 and year % 100 != 0:\n",
    "    print(year, \"is a Leap Year\")\n",
    "elif year % 100 == 0:\n",
    "    print(year, \"is not a Leap Year\")\n",
    "elif year % 400 == 0:\n",
    "    print(year, \"is a Leap Year\")\n",
    "else:\n",
    "    print(year, \"is not a Leap Year\")"
   ]
  },
  {
   "cell_type": "markdown",
   "metadata": {},
   "source": [
    "- Q.10 Accept d1 and d2 as input. First, check to see that they are in the proper range for dice. If not, print a message.            Otherwise, determine the outcome if this is the come out roll. If the sum is 7 or 11, print the winner. If the sum is 2,        3 or 12, print loser. Otherwise print the point."
   ]
  },
  {
   "cell_type": "code",
   "execution_count": 24,
   "metadata": {},
   "outputs": [
    {
     "name": "stdout",
     "output_type": "stream",
     "text": [
      "Press ENTER to roll the dice...3\n",
      "Sorry, you lose!\n"
     ]
    }
   ],
   "source": [
    "import random\n",
    "def play_one_round(bet):\n",
    "    # Returns the value of a simulated roll of two dice\n",
    "     def roll_dice():\n",
    "        input(\"Press ENTER to roll the dice...\")\n",
    "        d1 = random.randint(1, 6)\n",
    "        d2 = random.randint(1, 6)\n",
    "        return d1 + d2\n",
    "roll = roll_dice()\n",
    "\n",
    "    # First phase: 7 or 11 wins, 2, 3, or 12 loses\n",
    "if roll == 7 or roll == 11:\n",
    "         print(\"You win!\")\n",
    "        #return bet\n",
    "elif roll == 2 or roll == 3 or roll == 12:\n",
    "         print (\"Sorry, you lose!\")\n",
    "        #return -bet\n",
    "else:\n",
    "        point = roll\n",
    "        print()\n",
    "        print (\"The point is now\", point, \".\")\n",
    "play_one_round(100000000000)"
   ]
  },
  {
   "cell_type": "markdown",
   "metadata": {},
   "source": [
    "- Q.11 . Write a python program to display the number of days in a month name from the given list of months or month number              entered by user. "
   ]
  },
  {
   "cell_type": "code",
   "execution_count": 1,
   "metadata": {},
   "outputs": [
    {
     "name": "stdout",
     "output_type": "stream",
     "text": [
      "5\n",
      "Number of days is 31\n"
     ]
    }
   ],
   "source": [
    "# Case - 1\n",
    "month = int(input())\n",
    "if(month == 1 or month == 3 or month == 5 or month == 7 or month == 8 or month == 10 or month == 12):\n",
    "    print(\"Number of days is 31\")\n",
    "elif((month == 2) and ((year%400==0) or (year%4==0 and year%100!=0))):\n",
    "     print(\"Number of days is 29\")\n",
    "elif(month == 2):\n",
    "    print(\"Number of days is 28\")\n",
    "else:\n",
    "    print(\"Number of days is 30\")"
   ]
  },
  {
   "cell_type": "code",
   "execution_count": 4,
   "metadata": {},
   "outputs": [
    {
     "name": "stdout",
     "output_type": "stream",
     "text": [
      "2\n",
      "2023\n",
      "Number of days is 28\n"
     ]
    }
   ],
   "source": [
    "# Case - 2\n",
    "month = int(input())\n",
    "year = int(input())\n",
    "if(month == 1 or month == 3 or month == 5 or month == 7 or month == 8 or month == 10 or month == 12):\n",
    "    print(\"Number of days is 31\")\n",
    "elif((month == 2) and ((year%400==0) or (year%4==0 and year%100!=0))):\n",
    "     print(\"Number of days is 29\")\n",
    "elif(month == 2):\n",
    "    print(\"Number of days is 28\")\n",
    "else:\n",
    "    print(\"Number of days is 30\")"
   ]
  },
  {
   "cell_type": "code",
   "execution_count": 5,
   "metadata": {},
   "outputs": [
    {
     "name": "stdout",
     "output_type": "stream",
     "text": [
      "6\n",
      "Number of days is 30\n"
     ]
    }
   ],
   "source": [
    "# Case - 3\n",
    "month = int(input())\n",
    "if(month == 1 or month == 3 or month == 5 or month == 7 or month == 8 or month == 10 or month == 12):\n",
    "    print(\"Number of days is 31\")\n",
    "elif((month == 2) and ((year%400==0) or (year%4==0 and year%100!=0))):\n",
    "     print(\"Number of days is 29\")\n",
    "elif(month == 2):\n",
    "    print(\"Number of days is 28\")\n",
    "else:\n",
    "    print(\"Number of days is 30\")"
   ]
  },
  {
   "cell_type": "markdown",
   "metadata": {},
   "source": [
    "- Q.12 Write a Python program to get next day of a given date."
   ]
  },
  {
   "cell_type": "code",
   "execution_count": 6,
   "metadata": {},
   "outputs": [
    {
     "name": "stdout",
     "output_type": "stream",
     "text": [
      "Input a year: 2018\n",
      "Input a month [1-12]: 1\n",
      "Input a day [1-31]: 27\n",
      "The next date is [yyyy-mm-dd] 2018-1-28.\n"
     ]
    }
   ],
   "source": [
    "year = int(input(\"Input a year: \"))\n",
    "if (year % 400 == 0):\n",
    "    leap_year = True\n",
    "elif (year % 100 == 0):\n",
    "    leap_year = False\n",
    "elif (year % 4 == 0):\n",
    "    leap_year = True\n",
    "else:\n",
    "    leap_year = False\n",
    "    \n",
    "month = int(input(\"Input a month [1-12]: \"))\n",
    "if month in (1, 3, 5, 7, 8, 10, 12):\n",
    "    month_length = 31\n",
    "elif month == 2:\n",
    "    if leap_year:\n",
    "        month_length = 29\n",
    "    else:\n",
    "        month_length = 28\n",
    "else:\n",
    "    month_length = 30\n",
    "\n",
    "\n",
    "day = int(input(\"Input a day [1-31]: \"))\n",
    "if day < month_length:\n",
    "    day += 1\n",
    "else:\n",
    "    day = 1\n",
    "    if month == 12:\n",
    "        month = 1\n",
    "        year += 1\n",
    "    else:\n",
    "        month += 1\n",
    "print(\"The next date is [yyyy-mm-dd] %d-%d-%d.\" % (year, month, day))\n",
    "\n"
   ]
  },
  {
   "cell_type": "code",
   "execution_count": null,
   "metadata": {},
   "outputs": [],
   "source": []
  },
  {
   "cell_type": "code",
   "execution_count": null,
   "metadata": {},
   "outputs": [],
   "source": []
  }
 ],
 "metadata": {
  "kernelspec": {
   "display_name": "Python 3",
   "language": "python",
   "name": "python3"
  },
  "language_info": {
   "codemirror_mode": {
    "name": "ipython",
    "version": 3
   },
   "file_extension": ".py",
   "mimetype": "text/x-python",
   "name": "python",
   "nbconvert_exporter": "python",
   "pygments_lexer": "ipython3",
   "version": "3.7.6"
  }
 },
 "nbformat": 4,
 "nbformat_minor": 4
}
